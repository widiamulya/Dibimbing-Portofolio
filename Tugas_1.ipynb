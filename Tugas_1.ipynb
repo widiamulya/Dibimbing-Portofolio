{
  "cells": [
    {
      "cell_type": "markdown",
      "metadata": {
        "id": "view-in-github",
        "colab_type": "text"
      },
      "source": [
        "<a href=\"https://colab.research.google.com/github/widiamulya/Dibimbing-Portofolio/blob/main/Tugas_1.ipynb\" target=\"_parent\"><img src=\"https://colab.research.google.com/assets/colab-badge.svg\" alt=\"Open In Colab\"/></a>"
      ]
    },
    {
      "cell_type": "markdown",
      "id": "39bf7b14",
      "metadata": {
        "id": "39bf7b14"
      },
      "source": [
        "## Buatlah sebuah program yang:\n",
        "\n",
        "   1. Meminta input dari pengguna:\n",
        "\n",
        "       - Nama mahasiswa\n",
        "\n",
        "       - NIM mahasiswa\n",
        "\n",
        "       - Nilai ujian (dalam angka, 0–100)\n",
        "\n",
        "   2. Cek dan tampilkan tipe data dari setiap input.\n",
        "\n",
        "   3. Gunakan if-elif-else untuk menentukan kategori nilai, dengan kriteria sebagai berikut:\n",
        "   \n",
        "```\n",
        "Nilai | Kategori\n",
        "85 - 100 | A (Sangat Baik)\n",
        "75 - 84 | B (Baik)\n",
        "60 - 74 | C (Cukup)\n",
        "40 - 59 | D (Kurang)\n",
        "< 40 | E (Sangat Kurang)\n",
        "```\n",
        "\n",
        "```\n",
        "==== Ekspektasi Output Jawaban : =====\n",
        "Masukkan nama mahasiswa: Sarah\n",
        "Masukkan NIM: 12345678\n",
        "Masukkan nilai ujian (0-100): 81\n",
        "\n",
        "Nama: Sarah (type: <class 'str'>)\n",
        "NIM: 12345678 (type: <class 'str'>)\n",
        "Nilai: 81 (type: <class 'int'>)\n",
        "\n",
        "Hasil Evaluasi:\n",
        "Mahasiswa: Sarah (NIM: 12345678)\n",
        "Nilai Ujian: 81\n",
        "Kategori Nilai: B (Baik)\n",
        "```"
      ]
    },
    {
      "cell_type": "code",
      "source": [
        "# Program Input Nilai Mahasiswa\n",
        "print(\"=== PROGRAM INPUT NILAI MAHASISWA ===\")\n",
        "\n",
        "# 1. Meminta input dari pengguna\n",
        "nama = input(\"Masukkan nama mahasiswa: \")\n",
        "nim = input(\"Masukkan NIM mahasiswa: \")\n",
        "nilai_str = input(\"Masukkan nilai ujian (0-100): \")\n",
        "\n",
        "# 2. Menampilkan tipe data setiap input\n",
        "print(\"\\nTipe data input:\")\n",
        "print(f\"Nama: {nama} (type: {type(nama)})\")\n",
        "print(f\"NIM: {nim} (type: {type(nim)})\")\n",
        "print(f\"Nilai (sebelum konversi): {nilai_str} (type: {type(nilai_str)})\")\n",
        "\n",
        "# Konversi nilai ke integer dan tipe data\n",
        "try:\n",
        "    nilai_int = int(nilai_str)\n",
        "    print(f\"Nilai (setelah konversi): {nilai_int} (type: {type(nilai_int)})\")\n",
        "\n",
        "    # 3. Menentukan kategori nilai\n",
        "    print(\"\\nHasil Evaluasi:\")\n",
        "    print(f\"Mahasiswa: {nama} (NIM: {nim})\")\n",
        "    print(f\"Nilai Ujian: {nilai_int}\")\n",
        "\n",
        "    if not (0 <= nilai_int <= 100):\n",
        "        kategori = \"Nilai tidak valid\"\n",
        "    elif nilai_int >= 85:\n",
        "        kategori = \"A (Sangat Baik)\"\n",
        "    elif nilai_int >= 75:\n",
        "        kategori = \"B (Baik)\"\n",
        "    elif nilai_int >= 60:\n",
        "        kategori = \"C (Cukup)\"\n",
        "    elif nilai_int >= 40:\n",
        "        kategori = \"D (Kurang)\"\n",
        "    else:\n",
        "        kategori = \"E (Sangat Kurang)\"\n",
        "\n",
        "    print(f\"Kategori Nilai: {kategori}\")\n",
        "\n",
        "except ValueError:\n",
        "    print(\"\\nError: Input nilai tidak valid. Harap masukkan angka antara 0 dan 100.\")"
      ],
      "metadata": {
        "colab": {
          "base_uri": "https://localhost:8080/"
        },
        "id": "Etn6D3_GXVMk",
        "outputId": "e83c187d-cc53-4ae6-b42f-939c2b161d6f"
      },
      "id": "Etn6D3_GXVMk",
      "execution_count": null,
      "outputs": [
        {
          "output_type": "stream",
          "name": "stdout",
          "text": [
            "=== PROGRAM INPUT NILAI MAHASISWA ===\n",
            "Masukkan nama mahasiswa: Widia Mulya Hartanti\n",
            "Masukkan NIM mahasiswa: 123456789\n",
            "Masukkan nilai ujian (0-100): 78\n",
            "\n",
            "Tipe data input:\n",
            "Nama: Widia Mulya Hartanti (type: <class 'str'>)\n",
            "NIM: 123456789 (type: <class 'str'>)\n",
            "Nilai (sebelum konversi): 78 (type: <class 'str'>)\n",
            "Nilai (setelah konversi): 78 (type: <class 'int'>)\n",
            "\n",
            "Hasil Evaluasi:\n",
            "Mahasiswa: Widia Mulya Hartanti (NIM: 123456789)\n",
            "Nilai Ujian: 78\n",
            "Kategori Nilai: B (Baik)\n"
          ]
        }
      ]
    },
    {
      "cell_type": "code",
      "execution_count": null,
      "id": "e2ab644c",
      "metadata": {
        "id": "e2ab644c"
      },
      "outputs": [],
      "source": []
    }
  ],
  "metadata": {
    "kernelspec": {
      "display_name": "Python 3 (ipykernel)",
      "language": "python",
      "name": "python3"
    },
    "language_info": {
      "codemirror_mode": {
        "name": "ipython",
        "version": 3
      },
      "file_extension": ".py",
      "mimetype": "text/x-python",
      "name": "python",
      "nbconvert_exporter": "python",
      "pygments_lexer": "ipython3",
      "version": "3.11.4"
    },
    "colab": {
      "provenance": [],
      "include_colab_link": true
    }
  },
  "nbformat": 4,
  "nbformat_minor": 5
}